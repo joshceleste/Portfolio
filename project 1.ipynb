{
 "cells": [
  {
   "cell_type": "markdown",
   "metadata": {},
   "source": [
    "# Weather History (Data Cleaning in Python)\n",
    "\n",
    "##### In this project, I cleaned and transformed a dataset with 96,453 rows and 12 columns of raw weather data using Python to ensure accurate analysis and deeper insights. The following data cleaning tasks were performed:\n",
    "\n",
    "1. Data Parsing and Formatting\n",
    "2. Missing Values Handling\n",
    "3. Row Duplicates Detection Handling \n",
    "4. Consistency Check and Data Validations\n",
    "5. Data Subsetting to CSV Transformation\n",
    "6. Outlier Detection and Handling"
   ]
  },
  {
   "cell_type": "markdown",
   "metadata": {},
   "source": [
    "### 1. Data Parsing and Formatting\n",
    "\n",
    "##### First, we review the columns and its data types to ensure that all data are consistent in format, identifying and correcting any discrepancies to standardize the data for accurate analysis."
   ]
  },
  {
   "cell_type": "code",
   "execution_count": 2,
   "metadata": {},
   "outputs": [],
   "source": [
    "# Import the necessary libraries and data from the CSV file.\n",
    "\n",
    "import pandas as pd\n",
    "df = pd.read_csv('weatherHistory.csv')\n"
   ]
  },
  {
   "cell_type": "code",
   "execution_count": 3,
   "metadata": {},
   "outputs": [
    {
     "data": {
      "text/plain": [
       "Formatted Date               object\n",
       "Summary                      object\n",
       "Precip Type                  object\n",
       "Temperature (C)             float64\n",
       "Apparent Temperature (C)    float64\n",
       "Humidity                    float64\n",
       "Wind Speed (km/h)           float64\n",
       "Wind Bearing (degrees)      float64\n",
       "Visibility (km)             float64\n",
       "Loud Cover                  float64\n",
       "Pressure (millibars)        float64\n",
       "Daily Summary                object\n",
       "dtype: object"
      ]
     },
     "execution_count": 3,
     "metadata": {},
     "output_type": "execute_result"
    }
   ],
   "source": [
    "# Then let's take a look at the columns and data types of the dataset.\n",
    "\n",
    "df.dtypes"
   ]
  },
  {
   "cell_type": "markdown",
   "metadata": {},
   "source": [
    " As we can see above, the Formatted Date column is an object."
   ]
  },
  {
   "cell_type": "code",
   "execution_count": 4,
   "metadata": {},
   "outputs": [
    {
     "name": "stderr",
     "output_type": "stream",
     "text": [
      "C:\\Users\\Josh09\\AppData\\Local\\Temp\\ipykernel_3792\\1812845144.py:3: FutureWarning: In a future version of pandas, parsing datetimes with mixed time zones will raise an error unless `utc=True`. Please specify `utc=True` to opt in to the new behaviour and silence this warning. To create a `Series` with mixed offsets and `object` dtype, please use `apply` and `datetime.datetime.strptime`\n",
      "  df['Formatted Date'] = pd.to_datetime(df['Formatted Date'], errors='raise')\n"
     ]
    }
   ],
   "source": [
    "# Let's convert it to a datetime format.\n",
    "\n",
    "df['Formatted Date'] = pd.to_datetime(df['Formatted Date'], errors='raise')"
   ]
  },
  {
   "cell_type": "markdown",
   "metadata": {},
   "source": [
    "FutureWarning occured because column 'Formatted Date' consists of utc date format."
   ]
  },
  {
   "cell_type": "code",
   "execution_count": 5,
   "metadata": {},
   "outputs": [],
   "source": [
    "# Let's adjust our code.\n",
    "\n",
    "df['Formatted Date'] = pd.to_datetime(df['Formatted Date'], errors='raise', utc=True)"
   ]
  },
  {
   "cell_type": "code",
   "execution_count": 6,
   "metadata": {},
   "outputs": [
    {
     "data": {
      "text/plain": [
       "Formatted Date              datetime64[ns, UTC]\n",
       "Summary                                  object\n",
       "Precip Type                              object\n",
       "Temperature (C)                         float64\n",
       "Apparent Temperature (C)                float64\n",
       "Humidity                                float64\n",
       "Wind Speed (km/h)                       float64\n",
       "Wind Bearing (degrees)                  float64\n",
       "Visibility (km)                         float64\n",
       "Loud Cover                              float64\n",
       "Pressure (millibars)                    float64\n",
       "Daily Summary                            object\n",
       "dtype: object"
      ]
     },
     "execution_count": 6,
     "metadata": {},
     "output_type": "execute_result"
    }
   ],
   "source": [
    "\n",
    "# Let's check if the conversion was successful.\n",
    "\n",
    "df.dtypes"
   ]
  },
  {
   "cell_type": "markdown",
   "metadata": {},
   "source": [
    "Convertion of the column 'Formatted Date' from object to date time data type is successful.\n",
    "\n",
    "Task 1, done."
   ]
  },
  {
   "cell_type": "markdown",
   "metadata": {},
   "source": [
    "### 2. Missing Values Handling\n",
    "\n",
    "##### We determine which columns have missing values and decide whether to fill them with statistical measures, transform, or drop the affected rows."
   ]
  },
  {
   "cell_type": "code",
   "execution_count": 7,
   "metadata": {},
   "outputs": [
    {
     "data": {
      "text/plain": [
       "Formatted Date                0\n",
       "Summary                       0\n",
       "Precip Type                 517\n",
       "Temperature (C)               0\n",
       "Apparent Temperature (C)      0\n",
       "Humidity                      0\n",
       "Wind Speed (km/h)             0\n",
       "Wind Bearing (degrees)        0\n",
       "Visibility (km)               0\n",
       "Loud Cover                    0\n",
       "Pressure (millibars)          0\n",
       "Daily Summary                 0\n",
       "dtype: int64"
      ]
     },
     "execution_count": 7,
     "metadata": {},
     "output_type": "execute_result"
    }
   ],
   "source": [
    "# Let's check if there are any missing values in the dataset based on the columns.\n",
    "\n",
    "df.isna().sum()"
   ]
  },
  {
   "cell_type": "code",
   "execution_count": 8,
   "metadata": {},
   "outputs": [
    {
     "data": {
      "text/plain": [
       "array(['rain', 'snow', nan], dtype=object)"
      ]
     },
     "execution_count": 8,
     "metadata": {},
     "output_type": "execute_result"
    }
   ],
   "source": [
    "# As we can see above, the `Precip Type` column alone has missing values. Let's check its character first as a column.\n",
    "\n",
    "df['Precip Type'].unique()"
   ]
  },
  {
   "cell_type": "markdown",
   "metadata": {},
   "source": [
    "##### Here we can see that 'Precip Type' column contains object data, which only has 3 unique values; Rain, Snow, and NaN. \n",
    "\n",
    "##### After evaluating the context of the 'Nan' rows of the 'Precip Type' column, The 'NaN' values in the 'Precip Type' column indicates the absence precipitation, as supported by the 'Summary' and 'Daily Summary' columns; not due to data error. Therefore, we replace 'NaN' with 'No Precip' instead of dropping the rows.\n"
   ]
  },
  {
   "cell_type": "code",
   "execution_count": 9,
   "metadata": {},
   "outputs": [],
   "source": [
    "# Let's replace the missing values with 'no precip'.\n",
    "\n",
    "df['Precip Type'] = df['Precip Type'].fillna('no precip')"
   ]
  },
  {
   "cell_type": "code",
   "execution_count": 10,
   "metadata": {},
   "outputs": [
    {
     "data": {
      "text/plain": [
       "array(['rain', 'snow', 'no precip'], dtype=object)"
      ]
     },
     "execution_count": 10,
     "metadata": {},
     "output_type": "execute_result"
    }
   ],
   "source": [
    "#Let's check if the replacement was successful and if there are no missing values.\n",
    "\n",
    "df['Precip Type'].unique()"
   ]
  },
  {
   "cell_type": "code",
   "execution_count": 11,
   "metadata": {},
   "outputs": [
    {
     "data": {
      "text/plain": [
       "Formatted Date              0\n",
       "Summary                     0\n",
       "Precip Type                 0\n",
       "Temperature (C)             0\n",
       "Apparent Temperature (C)    0\n",
       "Humidity                    0\n",
       "Wind Speed (km/h)           0\n",
       "Wind Bearing (degrees)      0\n",
       "Visibility (km)             0\n",
       "Loud Cover                  0\n",
       "Pressure (millibars)        0\n",
       "Daily Summary               0\n",
       "dtype: int64"
      ]
     },
     "execution_count": 11,
     "metadata": {},
     "output_type": "execute_result"
    }
   ],
   "source": [
    "df.isna().sum()"
   ]
  },
  {
   "cell_type": "markdown",
   "metadata": {},
   "source": [
    "Task 2, done."
   ]
  },
  {
   "cell_type": "markdown",
   "metadata": {},
   "source": [
    "### 3. Row Duplicates Detection Handling\n",
    "\n",
    "##### Identifying and addressing duplicate rows to ensure each entry is unique, either by removing exact duplicates or consolidating redundant information."
   ]
  },
  {
   "cell_type": "code",
   "execution_count": 12,
   "metadata": {},
   "outputs": [
    {
     "data": {
      "text/plain": [
       "Index([36072, 36073, 36074, 36075, 36076, 36077, 36078, 36079, 36080, 36081,\n",
       "       36082, 36083, 36084, 36085, 36086, 36087, 36088, 36089, 36090, 36091,\n",
       "       36092, 36093, 36094, 36095],\n",
       "      dtype='int64')"
      ]
     },
     "execution_count": 12,
     "metadata": {},
     "output_type": "execute_result"
    }
   ],
   "source": [
    "# Let's check if there are any duplicated rows by checking the index.\n",
    "\n",
    "df[df.duplicated()].index"
   ]
  },
  {
   "cell_type": "code",
   "execution_count": 13,
   "metadata": {},
   "outputs": [
    {
     "data": {
      "text/html": [
       "<div>\n",
       "<style scoped>\n",
       "    .dataframe tbody tr th:only-of-type {\n",
       "        vertical-align: middle;\n",
       "    }\n",
       "\n",
       "    .dataframe tbody tr th {\n",
       "        vertical-align: top;\n",
       "    }\n",
       "\n",
       "    .dataframe thead th {\n",
       "        text-align: right;\n",
       "    }\n",
       "</style>\n",
       "<table border=\"1\" class=\"dataframe\">\n",
       "  <thead>\n",
       "    <tr style=\"text-align: right;\">\n",
       "      <th></th>\n",
       "      <th>Formatted Date</th>\n",
       "      <th>Summary</th>\n",
       "      <th>Precip Type</th>\n",
       "      <th>Temperature (C)</th>\n",
       "      <th>Apparent Temperature (C)</th>\n",
       "      <th>Humidity</th>\n",
       "      <th>Wind Speed (km/h)</th>\n",
       "      <th>Wind Bearing (degrees)</th>\n",
       "      <th>Visibility (km)</th>\n",
       "      <th>Loud Cover</th>\n",
       "      <th>Pressure (millibars)</th>\n",
       "      <th>Daily Summary</th>\n",
       "    </tr>\n",
       "  </thead>\n",
       "  <tbody>\n",
       "    <tr>\n",
       "      <th>8040</th>\n",
       "      <td>2010-08-01 22:00:00+00:00</td>\n",
       "      <td>Clear</td>\n",
       "      <td>rain</td>\n",
       "      <td>18.800000</td>\n",
       "      <td>18.800000</td>\n",
       "      <td>0.93</td>\n",
       "      <td>6.279</td>\n",
       "      <td>270.0</td>\n",
       "      <td>14.9086</td>\n",
       "      <td>0.0</td>\n",
       "      <td>1016.99</td>\n",
       "      <td>Partly cloudy starting in the afternoon contin...</td>\n",
       "    </tr>\n",
       "    <tr>\n",
       "      <th>36072</th>\n",
       "      <td>2010-08-01 22:00:00+00:00</td>\n",
       "      <td>Clear</td>\n",
       "      <td>rain</td>\n",
       "      <td>18.800000</td>\n",
       "      <td>18.800000</td>\n",
       "      <td>0.93</td>\n",
       "      <td>6.279</td>\n",
       "      <td>270.0</td>\n",
       "      <td>14.9086</td>\n",
       "      <td>0.0</td>\n",
       "      <td>1016.99</td>\n",
       "      <td>Partly cloudy starting in the afternoon contin...</td>\n",
       "    </tr>\n",
       "    <tr>\n",
       "      <th>36073</th>\n",
       "      <td>2010-08-01 23:00:00+00:00</td>\n",
       "      <td>Clear</td>\n",
       "      <td>rain</td>\n",
       "      <td>18.222222</td>\n",
       "      <td>18.222222</td>\n",
       "      <td>0.97</td>\n",
       "      <td>6.279</td>\n",
       "      <td>291.0</td>\n",
       "      <td>14.9086</td>\n",
       "      <td>0.0</td>\n",
       "      <td>1017.09</td>\n",
       "      <td>Partly cloudy starting in the afternoon contin...</td>\n",
       "    </tr>\n",
       "    <tr>\n",
       "      <th>8041</th>\n",
       "      <td>2010-08-01 23:00:00+00:00</td>\n",
       "      <td>Clear</td>\n",
       "      <td>rain</td>\n",
       "      <td>18.222222</td>\n",
       "      <td>18.222222</td>\n",
       "      <td>0.97</td>\n",
       "      <td>6.279</td>\n",
       "      <td>291.0</td>\n",
       "      <td>14.9086</td>\n",
       "      <td>0.0</td>\n",
       "      <td>1017.09</td>\n",
       "      <td>Partly cloudy starting in the afternoon contin...</td>\n",
       "    </tr>\n",
       "    <tr>\n",
       "      <th>8042</th>\n",
       "      <td>2010-08-02 00:00:00+00:00</td>\n",
       "      <td>Clear</td>\n",
       "      <td>rain</td>\n",
       "      <td>18.072222</td>\n",
       "      <td>18.072222</td>\n",
       "      <td>0.98</td>\n",
       "      <td>11.270</td>\n",
       "      <td>290.0</td>\n",
       "      <td>6.8425</td>\n",
       "      <td>0.0</td>\n",
       "      <td>1013.23</td>\n",
       "      <td>Partly cloudy starting in the afternoon contin...</td>\n",
       "    </tr>\n",
       "  </tbody>\n",
       "</table>\n",
       "</div>"
      ],
      "text/plain": [
       "                 Formatted Date Summary Precip Type  Temperature (C)  \\\n",
       "8040  2010-08-01 22:00:00+00:00   Clear        rain        18.800000   \n",
       "36072 2010-08-01 22:00:00+00:00   Clear        rain        18.800000   \n",
       "36073 2010-08-01 23:00:00+00:00   Clear        rain        18.222222   \n",
       "8041  2010-08-01 23:00:00+00:00   Clear        rain        18.222222   \n",
       "8042  2010-08-02 00:00:00+00:00   Clear        rain        18.072222   \n",
       "\n",
       "       Apparent Temperature (C)  Humidity  Wind Speed (km/h)  \\\n",
       "8040                  18.800000      0.93              6.279   \n",
       "36072                 18.800000      0.93              6.279   \n",
       "36073                 18.222222      0.97              6.279   \n",
       "8041                  18.222222      0.97              6.279   \n",
       "8042                  18.072222      0.98             11.270   \n",
       "\n",
       "       Wind Bearing (degrees)  Visibility (km)  Loud Cover  \\\n",
       "8040                    270.0          14.9086         0.0   \n",
       "36072                   270.0          14.9086         0.0   \n",
       "36073                   291.0          14.9086         0.0   \n",
       "8041                    291.0          14.9086         0.0   \n",
       "8042                    290.0           6.8425         0.0   \n",
       "\n",
       "       Pressure (millibars)                                      Daily Summary  \n",
       "8040                1016.99  Partly cloudy starting in the afternoon contin...  \n",
       "36072               1016.99  Partly cloudy starting in the afternoon contin...  \n",
       "36073               1017.09  Partly cloudy starting in the afternoon contin...  \n",
       "8041                1017.09  Partly cloudy starting in the afternoon contin...  \n",
       "8042                1013.23  Partly cloudy starting in the afternoon contin...  "
      ]
     },
     "execution_count": 13,
     "metadata": {},
     "output_type": "execute_result"
    }
   ],
   "source": [
    "# Let's check the duplicated rows along with its identical rows and sort them for a much better understanding.\n",
    "\n",
    "df[df.duplicated(keep=False)].sort_values(by='Formatted Date').head(5)"
   ]
  },
  {
   "cell_type": "code",
   "execution_count": 14,
   "metadata": {},
   "outputs": [],
   "source": [
    "# Let's drop the duplicated rows, reset the index count, and sort the remaining rows.\n",
    "\n",
    "df = df.drop_duplicates().sort_values(by='Formatted Date').reset_index(drop=True)"
   ]
  },
  {
   "cell_type": "code",
   "execution_count": 15,
   "metadata": {},
   "outputs": [
    {
     "data": {
      "text/plain": [
       "Index([], dtype='int64')"
      ]
     },
     "execution_count": 15,
     "metadata": {},
     "output_type": "execute_result"
    }
   ],
   "source": [
    "# Final duplicate check.\n",
    "\n",
    "df[df.duplicated()].index"
   ]
  },
  {
   "cell_type": "markdown",
   "metadata": {},
   "source": [
    "Task 3, done."
   ]
  },
  {
   "cell_type": "markdown",
   "metadata": {},
   "source": [
    "### 4. Consistency Check and Data Validations\n",
    "\n",
    "##### We will perform sanity checks on the dataset by identifying:\n",
    "-Negative values in the 'Wind Speed (km/h)' column, as these should not exist since it measures speed, not direction.\n",
    "\n",
    "-Values in the 'Temperature (C)' column that fall outside Earth's recorded temperature range of -89.2°C to 56.7°C."
   ]
  },
  {
   "cell_type": "code",
   "execution_count": 16,
   "metadata": {},
   "outputs": [
    {
     "data": {
      "text/plain": [
       "Formatted Date              0\n",
       "Summary                     0\n",
       "Precip Type                 0\n",
       "Temperature (C)             0\n",
       "Apparent Temperature (C)    0\n",
       "Humidity                    0\n",
       "Wind Speed (km/h)           0\n",
       "Wind Bearing (degrees)      0\n",
       "Visibility (km)             0\n",
       "Loud Cover                  0\n",
       "Pressure (millibars)        0\n",
       "Daily Summary               0\n",
       "dtype: int64"
      ]
     },
     "execution_count": 16,
     "metadata": {},
     "output_type": "execute_result"
    }
   ],
   "source": [
    "# Let's check first if there are any negative values in the columns 'Wind Speed (km/h)', then we will determine count of it.\n",
    "\n",
    "df[df['Wind Speed (km/h)'] < 0].count()"
   ]
  },
  {
   "cell_type": "code",
   "execution_count": 17,
   "metadata": {},
   "outputs": [
    {
     "data": {
      "text/plain": [
       "Formatted Date              0\n",
       "Summary                     0\n",
       "Precip Type                 0\n",
       "Temperature (C)             0\n",
       "Apparent Temperature (C)    0\n",
       "Humidity                    0\n",
       "Wind Speed (km/h)           0\n",
       "Wind Bearing (degrees)      0\n",
       "Visibility (km)             0\n",
       "Loud Cover                  0\n",
       "Pressure (millibars)        0\n",
       "Daily Summary               0\n",
       "dtype: int64"
      ]
     },
     "execution_count": 17,
     "metadata": {},
     "output_type": "execute_result"
    }
   ],
   "source": [
    "# Column 'Wind Speed (km/h)' has no negative values, hence it is acceptable. \n",
    "\n",
    "# Now let's check the column 'Temperature (C)' and its acceptable range.\n",
    "\n",
    "df[(df['Temperature (C)'] < -89.2) | (df['Temperature (C)'] > 56.7)].count()"
   ]
  },
  {
   "cell_type": "markdown",
   "metadata": {},
   "source": [
    "Since there are no values that is beyond the coldest and hottest earth surface temperature record, data in column 'Temperature (C)' is acceptable.\n",
    "\n",
    "Task 4, done."
   ]
  },
  {
   "cell_type": "markdown",
   "metadata": {},
   "source": [
    "### 5. Data Subsetting to CSV Transformation\n",
    "\n",
    "##### In an instance that we may need just a few specific columns to work on, we can create a subset of data from a large set of data, which are only necessary for a certain project. "
   ]
  },
  {
   "cell_type": "code",
   "execution_count": 18,
   "metadata": {},
   "outputs": [
    {
     "data": {
      "text/plain": [
       "Index(['Formatted Date', 'Summary', 'Precip Type', 'Temperature (C)',\n",
       "       'Apparent Temperature (C)', 'Humidity', 'Wind Speed (km/h)',\n",
       "       'Wind Bearing (degrees)', 'Visibility (km)', 'Loud Cover',\n",
       "       'Pressure (millibars)', 'Daily Summary'],\n",
       "      dtype='object')"
      ]
     },
     "execution_count": 18,
     "metadata": {},
     "output_type": "execute_result"
    }
   ],
   "source": [
    "# First we decide what columns to involve for a new set of data.\n",
    "\n",
    "df.columns"
   ]
  },
  {
   "cell_type": "code",
   "execution_count": 19,
   "metadata": {},
   "outputs": [],
   "source": [
    "# For the subdata, let's include columns 'Formatted Date', 'Summary', 'Precip Type', 'Temperature (C)', 'Humidity', 'Visibility (km)', 'Loud Cover', and 'Daily Summary'.\n",
    "\n",
    "#Then we save it as a stand alone data set, without it referencing to 'df'.\n",
    "\n",
    "new_df = df[['Formatted Date', 'Summary', 'Precip Type', 'Temperature (C)',\n",
    "       #'Apparent Temperature (C)', \n",
    "       'Humidity', #'Wind Speed (km/h)',\n",
    "       #'Wind Bearing (degrees)', \n",
    "       'Visibility (km)', #'Loud Cover',\n",
    "       #'Pressure (millibars)', \n",
    "        'Daily Summary']].copy()"
   ]
  },
  {
   "cell_type": "code",
   "execution_count": 20,
   "metadata": {},
   "outputs": [
    {
     "data": {
      "text/plain": [
       "Index(['Formatted Date', 'Summary', 'Precip Type', 'Temperature (C)',\n",
       "       'Humidity', 'Visibility (km)', 'Daily Summary'],\n",
       "      dtype='object')"
      ]
     },
     "execution_count": 20,
     "metadata": {},
     "output_type": "execute_result"
    }
   ],
   "source": [
    "# Now let's check if a new data has been created.\n",
    "\n",
    "new_df.columns"
   ]
  },
  {
   "cell_type": "code",
   "execution_count": 21,
   "metadata": {},
   "outputs": [],
   "source": [
    "# Since we successfully created a new subset, let's create a new csv file out of it. \n",
    "\n",
    "new_df.to_csv('new df.csv')"
   ]
  },
  {
   "cell_type": "markdown",
   "metadata": {},
   "source": [
    "Task 5, done."
   ]
  },
  {
   "cell_type": "markdown",
   "metadata": {},
   "source": [
    "### 6. Outlier Detection and Handling\n",
    "\n",
    "##### We will detect outliers in column 'Wind Speed (km/h)' using statistical methods and then address them by correcting or removing anomalies to ensure the accuracy and reliability of the data."
   ]
  },
  {
   "cell_type": "code",
   "execution_count": 22,
   "metadata": {},
   "outputs": [],
   "source": [
    "# In this task, scipy library will be needed.\n",
    "\n",
    "import scipy.stats as stats"
   ]
  },
  {
   "cell_type": "code",
   "execution_count": 23,
   "metadata": {},
   "outputs": [
    {
     "data": {
      "text/plain": [
       "DescribeResult(nobs=96429, minmax=(0.0, 63.8526), mean=10.812460236028583, variance=47.79433597724738, skewness=1.1134639633369425, kurtosis=1.7692650251192665)"
      ]
     },
     "execution_count": 23,
     "metadata": {},
     "output_type": "execute_result"
    }
   ],
   "source": [
    "# The most common statistical method when identifying outliers is the Interquartile Range (IQR) or Z-score. \n",
    "\n",
    "# We first need to know what the distribution of the column Wind Speed (km/h) is before we can choose the appropriate method.\n",
    "\n",
    "stats.describe(df['Wind Speed (km/h)'])"
   ]
  },
  {
   "cell_type": "markdown",
   "metadata": {},
   "source": [
    "As seen above, the Skewness and Kurtosis values resulted to a non-normal distribution, so we will use the IQR method.\n"
   ]
  },
  {
   "cell_type": "code",
   "execution_count": 24,
   "metadata": {},
   "outputs": [
    {
     "data": {
      "text/plain": [
       "8.307599999999999"
      ]
     },
     "execution_count": 24,
     "metadata": {},
     "output_type": "execute_result"
    }
   ],
   "source": [
    "# Let's find the IQR.\n",
    "\n",
    "Q1 = df['Wind Speed (km/h)'].quantile(0.25)\n",
    "Q3 = df['Wind Speed (km/h)'].quantile(0.75)\n",
    "IQR = Q3 - Q1\n",
    "IQR"
   ]
  },
  {
   "cell_type": "code",
   "execution_count": 25,
   "metadata": {},
   "outputs": [
    {
     "data": {
      "text/plain": [
       "(26.597199999999997, -6.633199999999997)"
      ]
     },
     "execution_count": 25,
     "metadata": {},
     "output_type": "execute_result"
    }
   ],
   "source": [
    "# Let's find the upper and lower bounds.\n",
    "\n",
    "upper_bound = Q3 + 1.5 * IQR\n",
    "lower_bound = Q1 - 1.5 * IQR\n",
    "upper_bound, lower_bound"
   ]
  },
  {
   "cell_type": "code",
   "execution_count": 26,
   "metadata": {},
   "outputs": [
    {
     "data": {
      "text/plain": [
       "(26.597199999999997, 0)"
      ]
     },
     "execution_count": 26,
     "metadata": {},
     "output_type": "execute_result"
    }
   ],
   "source": [
    "# As we can observe here, the lower_bound is -6.63. This is deemed illogical since there are no negative wind speeds.\n",
    "\n",
    "# We will replace the most logically correct value for the lower_bound with 0.\n",
    "\n",
    "lower_bound = 0\n",
    "upper_bound, lower_bound"
   ]
  },
  {
   "cell_type": "code",
   "execution_count": 27,
   "metadata": {},
   "outputs": [
    {
     "data": {
      "text/plain": [
       "15       27.5954\n",
       "33       26.8226\n",
       "437      28.5292\n",
       "438      26.9353\n",
       "440      28.5292\n",
       "          ...   \n",
       "93606    30.9764\n",
       "93803    27.2412\n",
       "93899    29.4469\n",
       "94305    27.5954\n",
       "94315    29.1249\n",
       "Name: Wind Speed (km/h), Length: 3028, dtype: float64"
      ]
     },
     "execution_count": 27,
     "metadata": {},
     "output_type": "execute_result"
    }
   ],
   "source": [
    "# Now that we have determined the bounds, Let's determine and check the outliers that are found beyond those.\n",
    "\n",
    "Outliers = df[(df['Wind Speed (km/h)'] < lower_bound) | (df['Wind Speed (km/h)'] > upper_bound)]\n",
    "\n",
    "Outliers['Wind Speed (km/h)']\n"
   ]
  },
  {
   "cell_type": "code",
   "execution_count": 28,
   "metadata": {},
   "outputs": [
    {
     "data": {
      "text/html": [
       "<div>\n",
       "<style scoped>\n",
       "    .dataframe tbody tr th:only-of-type {\n",
       "        vertical-align: middle;\n",
       "    }\n",
       "\n",
       "    .dataframe tbody tr th {\n",
       "        vertical-align: top;\n",
       "    }\n",
       "\n",
       "    .dataframe thead th {\n",
       "        text-align: right;\n",
       "    }\n",
       "</style>\n",
       "<table border=\"1\" class=\"dataframe\">\n",
       "  <thead>\n",
       "    <tr style=\"text-align: right;\">\n",
       "      <th></th>\n",
       "      <th>Formatted Date</th>\n",
       "      <th>Summary</th>\n",
       "      <th>Precip Type</th>\n",
       "      <th>Temperature (C)</th>\n",
       "      <th>Apparent Temperature (C)</th>\n",
       "      <th>Humidity</th>\n",
       "      <th>Wind Speed (km/h)</th>\n",
       "      <th>Wind Bearing (degrees)</th>\n",
       "      <th>Visibility (km)</th>\n",
       "      <th>Loud Cover</th>\n",
       "      <th>Pressure (millibars)</th>\n",
       "      <th>Daily Summary</th>\n",
       "    </tr>\n",
       "  </thead>\n",
       "  <tbody>\n",
       "    <tr>\n",
       "      <th>0</th>\n",
       "      <td>2005-12-31 23:00:00+00:00</td>\n",
       "      <td>Partly Cloudy</td>\n",
       "      <td>rain</td>\n",
       "      <td>0.577778</td>\n",
       "      <td>-4.050000</td>\n",
       "      <td>0.89</td>\n",
       "      <td>17.1143</td>\n",
       "      <td>140.0</td>\n",
       "      <td>9.9820</td>\n",
       "      <td>0.0</td>\n",
       "      <td>1016.66</td>\n",
       "      <td>Mostly cloudy throughout the day.</td>\n",
       "    </tr>\n",
       "    <tr>\n",
       "      <th>1</th>\n",
       "      <td>2006-01-01 00:00:00+00:00</td>\n",
       "      <td>Mostly Cloudy</td>\n",
       "      <td>rain</td>\n",
       "      <td>1.161111</td>\n",
       "      <td>-3.238889</td>\n",
       "      <td>0.85</td>\n",
       "      <td>16.6152</td>\n",
       "      <td>139.0</td>\n",
       "      <td>9.9015</td>\n",
       "      <td>0.0</td>\n",
       "      <td>1016.15</td>\n",
       "      <td>Mostly cloudy throughout the day.</td>\n",
       "    </tr>\n",
       "    <tr>\n",
       "      <th>2</th>\n",
       "      <td>2006-01-01 01:00:00+00:00</td>\n",
       "      <td>Mostly Cloudy</td>\n",
       "      <td>rain</td>\n",
       "      <td>1.666667</td>\n",
       "      <td>-3.155556</td>\n",
       "      <td>0.82</td>\n",
       "      <td>20.2538</td>\n",
       "      <td>140.0</td>\n",
       "      <td>9.9015</td>\n",
       "      <td>0.0</td>\n",
       "      <td>1015.87</td>\n",
       "      <td>Mostly cloudy throughout the day.</td>\n",
       "    </tr>\n",
       "    <tr>\n",
       "      <th>3</th>\n",
       "      <td>2006-01-01 02:00:00+00:00</td>\n",
       "      <td>Overcast</td>\n",
       "      <td>rain</td>\n",
       "      <td>1.711111</td>\n",
       "      <td>-2.194444</td>\n",
       "      <td>0.82</td>\n",
       "      <td>14.4900</td>\n",
       "      <td>140.0</td>\n",
       "      <td>9.9015</td>\n",
       "      <td>0.0</td>\n",
       "      <td>1015.56</td>\n",
       "      <td>Mostly cloudy throughout the day.</td>\n",
       "    </tr>\n",
       "    <tr>\n",
       "      <th>4</th>\n",
       "      <td>2006-01-01 03:00:00+00:00</td>\n",
       "      <td>Mostly Cloudy</td>\n",
       "      <td>rain</td>\n",
       "      <td>1.183333</td>\n",
       "      <td>-2.744444</td>\n",
       "      <td>0.86</td>\n",
       "      <td>13.9426</td>\n",
       "      <td>134.0</td>\n",
       "      <td>9.9015</td>\n",
       "      <td>0.0</td>\n",
       "      <td>1014.98</td>\n",
       "      <td>Mostly cloudy throughout the day.</td>\n",
       "    </tr>\n",
       "    <tr>\n",
       "      <th>...</th>\n",
       "      <td>...</td>\n",
       "      <td>...</td>\n",
       "      <td>...</td>\n",
       "      <td>...</td>\n",
       "      <td>...</td>\n",
       "      <td>...</td>\n",
       "      <td>...</td>\n",
       "      <td>...</td>\n",
       "      <td>...</td>\n",
       "      <td>...</td>\n",
       "      <td>...</td>\n",
       "      <td>...</td>\n",
       "    </tr>\n",
       "    <tr>\n",
       "      <th>96424</th>\n",
       "      <td>2016-12-31 18:00:00+00:00</td>\n",
       "      <td>Mostly Cloudy</td>\n",
       "      <td>rain</td>\n",
       "      <td>0.488889</td>\n",
       "      <td>-2.644444</td>\n",
       "      <td>0.86</td>\n",
       "      <td>9.7566</td>\n",
       "      <td>167.0</td>\n",
       "      <td>8.0178</td>\n",
       "      <td>0.0</td>\n",
       "      <td>1020.03</td>\n",
       "      <td>Mostly cloudy throughout the day.</td>\n",
       "    </tr>\n",
       "    <tr>\n",
       "      <th>96425</th>\n",
       "      <td>2016-12-31 19:00:00+00:00</td>\n",
       "      <td>Mostly Cloudy</td>\n",
       "      <td>rain</td>\n",
       "      <td>0.072222</td>\n",
       "      <td>-3.050000</td>\n",
       "      <td>0.88</td>\n",
       "      <td>9.4185</td>\n",
       "      <td>169.0</td>\n",
       "      <td>7.2450</td>\n",
       "      <td>0.0</td>\n",
       "      <td>1020.27</td>\n",
       "      <td>Mostly cloudy throughout the day.</td>\n",
       "    </tr>\n",
       "    <tr>\n",
       "      <th>96426</th>\n",
       "      <td>2016-12-31 20:00:00+00:00</td>\n",
       "      <td>Mostly Cloudy</td>\n",
       "      <td>snow</td>\n",
       "      <td>-0.233333</td>\n",
       "      <td>-3.377778</td>\n",
       "      <td>0.89</td>\n",
       "      <td>9.2736</td>\n",
       "      <td>175.0</td>\n",
       "      <td>9.5795</td>\n",
       "      <td>0.0</td>\n",
       "      <td>1020.50</td>\n",
       "      <td>Mostly cloudy throughout the day.</td>\n",
       "    </tr>\n",
       "    <tr>\n",
       "      <th>96427</th>\n",
       "      <td>2016-12-31 21:00:00+00:00</td>\n",
       "      <td>Mostly Cloudy</td>\n",
       "      <td>snow</td>\n",
       "      <td>-0.472222</td>\n",
       "      <td>-3.644444</td>\n",
       "      <td>0.91</td>\n",
       "      <td>9.2414</td>\n",
       "      <td>182.0</td>\n",
       "      <td>8.4042</td>\n",
       "      <td>0.0</td>\n",
       "      <td>1020.65</td>\n",
       "      <td>Mostly cloudy throughout the day.</td>\n",
       "    </tr>\n",
       "    <tr>\n",
       "      <th>96428</th>\n",
       "      <td>2016-12-31 22:00:00+00:00</td>\n",
       "      <td>Mostly Cloudy</td>\n",
       "      <td>snow</td>\n",
       "      <td>-0.677778</td>\n",
       "      <td>-3.888889</td>\n",
       "      <td>0.92</td>\n",
       "      <td>9.2253</td>\n",
       "      <td>189.0</td>\n",
       "      <td>8.8711</td>\n",
       "      <td>0.0</td>\n",
       "      <td>1020.72</td>\n",
       "      <td>Mostly cloudy throughout the day.</td>\n",
       "    </tr>\n",
       "  </tbody>\n",
       "</table>\n",
       "<p>93401 rows × 12 columns</p>\n",
       "</div>"
      ],
      "text/plain": [
       "                 Formatted Date        Summary Precip Type  Temperature (C)  \\\n",
       "0     2005-12-31 23:00:00+00:00  Partly Cloudy        rain         0.577778   \n",
       "1     2006-01-01 00:00:00+00:00  Mostly Cloudy        rain         1.161111   \n",
       "2     2006-01-01 01:00:00+00:00  Mostly Cloudy        rain         1.666667   \n",
       "3     2006-01-01 02:00:00+00:00       Overcast        rain         1.711111   \n",
       "4     2006-01-01 03:00:00+00:00  Mostly Cloudy        rain         1.183333   \n",
       "...                         ...            ...         ...              ...   \n",
       "96424 2016-12-31 18:00:00+00:00  Mostly Cloudy        rain         0.488889   \n",
       "96425 2016-12-31 19:00:00+00:00  Mostly Cloudy        rain         0.072222   \n",
       "96426 2016-12-31 20:00:00+00:00  Mostly Cloudy        snow        -0.233333   \n",
       "96427 2016-12-31 21:00:00+00:00  Mostly Cloudy        snow        -0.472222   \n",
       "96428 2016-12-31 22:00:00+00:00  Mostly Cloudy        snow        -0.677778   \n",
       "\n",
       "       Apparent Temperature (C)  Humidity  Wind Speed (km/h)  \\\n",
       "0                     -4.050000      0.89            17.1143   \n",
       "1                     -3.238889      0.85            16.6152   \n",
       "2                     -3.155556      0.82            20.2538   \n",
       "3                     -2.194444      0.82            14.4900   \n",
       "4                     -2.744444      0.86            13.9426   \n",
       "...                         ...       ...                ...   \n",
       "96424                 -2.644444      0.86             9.7566   \n",
       "96425                 -3.050000      0.88             9.4185   \n",
       "96426                 -3.377778      0.89             9.2736   \n",
       "96427                 -3.644444      0.91             9.2414   \n",
       "96428                 -3.888889      0.92             9.2253   \n",
       "\n",
       "       Wind Bearing (degrees)  Visibility (km)  Loud Cover  \\\n",
       "0                       140.0           9.9820         0.0   \n",
       "1                       139.0           9.9015         0.0   \n",
       "2                       140.0           9.9015         0.0   \n",
       "3                       140.0           9.9015         0.0   \n",
       "4                       134.0           9.9015         0.0   \n",
       "...                       ...              ...         ...   \n",
       "96424                   167.0           8.0178         0.0   \n",
       "96425                   169.0           7.2450         0.0   \n",
       "96426                   175.0           9.5795         0.0   \n",
       "96427                   182.0           8.4042         0.0   \n",
       "96428                   189.0           8.8711         0.0   \n",
       "\n",
       "       Pressure (millibars)                      Daily Summary  \n",
       "0                   1016.66  Mostly cloudy throughout the day.  \n",
       "1                   1016.15  Mostly cloudy throughout the day.  \n",
       "2                   1015.87  Mostly cloudy throughout the day.  \n",
       "3                   1015.56  Mostly cloudy throughout the day.  \n",
       "4                   1014.98  Mostly cloudy throughout the day.  \n",
       "...                     ...                                ...  \n",
       "96424               1020.03  Mostly cloudy throughout the day.  \n",
       "96425               1020.27  Mostly cloudy throughout the day.  \n",
       "96426               1020.50  Mostly cloudy throughout the day.  \n",
       "96427               1020.65  Mostly cloudy throughout the day.  \n",
       "96428               1020.72  Mostly cloudy throughout the day.  \n",
       "\n",
       "[93401 rows x 12 columns]"
      ]
     },
     "execution_count": 28,
     "metadata": {},
     "output_type": "execute_result"
    }
   ],
   "source": [
    "# Let's drop the outliers.\n",
    "\n",
    "df_after_drop = df.drop(Outliers.index)\n",
    "df_after_drop"
   ]
  },
  {
   "cell_type": "markdown",
   "metadata": {},
   "source": [
    "The dataframe df_after_drop is now free from outliers and is within the first and third quantile range.\n",
    "\n",
    "Task 6, done."
   ]
  },
  {
   "cell_type": "markdown",
   "metadata": {},
   "source": []
  }
 ],
 "metadata": {
  "kernelspec": {
   "display_name": "dataprax",
   "language": "python",
   "name": "python3"
  },
  "language_info": {
   "codemirror_mode": {
    "name": "ipython",
    "version": 3
   },
   "file_extension": ".py",
   "mimetype": "text/x-python",
   "name": "python",
   "nbconvert_exporter": "python",
   "pygments_lexer": "ipython3",
   "version": "3.9.19"
  }
 },
 "nbformat": 4,
 "nbformat_minor": 2
}
